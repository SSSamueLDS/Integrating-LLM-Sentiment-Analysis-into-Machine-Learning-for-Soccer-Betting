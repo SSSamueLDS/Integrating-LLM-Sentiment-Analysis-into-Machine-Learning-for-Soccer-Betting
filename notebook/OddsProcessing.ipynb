{
 "cells": [
  {
   "cell_type": "markdown",
   "metadata": {},
   "source": [
    "To process odds on Excel"
   ]
  },
  {
   "cell_type": "code",
   "execution_count": null,
   "metadata": {},
   "outputs": [
    {
     "name": "stdout",
     "output_type": "stream",
     "text": [
      "2015success\n",
      "2016success\n",
      "2017success\n",
      "2018success\n",
      "2019success\n",
      "2020success\n",
      "2021success\n",
      "2022success\n",
      "2023success\n"
     ]
    }
   ],
   "source": [
    "import csv\n",
    "import json\n",
    "\n",
    "for y in range(2015,2024):\n",
    "    data = []\n",
    "    with open(f'../dataset/epl_odds/odds_{y}.csv', mode ='r')as file:\n",
    "        csvFile = csv.reader(file)\n",
    "        for line in csvFile:\n",
    "            data.append(line)\n",
    "\n",
    "    list_of_keys = data[0]\n",
    "\n",
    "    to_json = []\n",
    "\n",
    "    #Try to save the odds in JSON\n",
    "    data = data[1:]\n",
    "\n",
    "    for match in data:\n",
    "        to_json.append({list_of_keys[x] : match[x] for x in range(len(match))})\n",
    "\n",
    "\n",
    "    #combine the 1x2 odds from various bookmakers\n",
    "    home = \"BbAvH\"\n",
    "    draw = 'BbAvD'\n",
    "    away = 'BbAvA'\n",
    "\n",
    "    #save the file\n",
    "    json_string = json.dumps(to_json, indent=4)\n",
    "\n",
    "    with open(f'../dataset/epl_odds/odds_{y}.json','w') as outfile:\n",
    "        outfile.write(json_string)\n",
    "        print(str(y)+'success')\n",
    "\n",
    "\n",
    "\n"
   ]
  },
  {
   "cell_type": "markdown",
   "metadata": {},
   "source": [
    "To get all teams that played in the league"
   ]
  },
  {
   "cell_type": "code",
   "execution_count": null,
   "metadata": {},
   "outputs": [
    {
     "name": "stdout",
     "output_type": "stream",
     "text": [
      "['Arsenal', 'Aston Villa', 'Bournemouth', 'Brentford', 'Brighton', 'Burnley', 'Cardiff', 'Chelsea', 'Crystal Palace', 'Everton', 'Fulham', 'Huddersfield', 'Hull City', 'Leeds', 'Leicester', 'Liverpool', 'Luton', 'Manchester City', 'Manchester United', 'Middlesbrough', 'Newcastle', 'Norwich', 'Nottingham Forest', 'Sheffield Utd', 'Southampton', 'Stoke City', 'Sunderland', 'Swansea', 'Tottenham', 'Watford', 'West Brom', 'West Ham', 'Wolves']\n",
      "33\n"
     ]
    },
    {
     "data": {
      "text/plain": [
       "' mapping_dict = {\\n    \\'Arsenal\\',\\n    \\'Aston Villa\\', \\n    \\'Bournemouth\\', \\n    \\'Brentford\\', \\n    \\'Brighton\\', \\n    \\'Burnley\\', \\n    \\'Cardiff\\', \\n    \\'Chelsea\\', \\n    \\'Crystal Palace\\', \\n    \\'Everton\\', \\n    \\'Fulham\\', \\n    \\'Huddersfield\\', \\n    \\'Hull\\', \\n    \\'Leeds\\', \\n    \\'Leicester\\', \\n    \\'Liverpool\\', \\n    \\'Luton\\', \\n    \\'Man City\\', \\n    \\'Man United\\', \\n    \\'Middlesbrough\\', \\n    \\'Newcastle\\', \\n    \\'Norwich\\', \\n    \"Nott\\'m Forest\", \\n    \\'Sheffield United\\', \\n    \\'Southampton\\', \\n    \\'Stoke\\', \\n    \\'Sunderland\\', \\n    \\'Swansea\\', \\n    \\'Tottenham\\', \\n    \\'Watford\\', \\n    \\'West Brom\\', \\n    \\'West Ham\\', \\n    \\'Wolves\\'\\n\\n} '"
      ]
     },
     "execution_count": 5,
     "metadata": {},
     "output_type": "execute_result"
    }
   ],
   "source": [
    "# get all the teams that played in the leagues\n",
    "import json\n",
    "list_of_teams = []\n",
    "for i in range(2016,2024):\n",
    "    data = None\n",
    "    with open(f'epl_combined/epl_combined_{i}.json') as f:\n",
    "        data = json.load(f)\n",
    "    for fixture in data:\n",
    "        if fixture['home_team'] not in list_of_teams:\n",
    "            list_of_teams.append(fixture['home_team'])\n",
    "        if fixture['away_team'] not in list_of_teams:\n",
    "            list_of_teams.append(fixture['away_team'])\n",
    "\n",
    "list_of_teams.sort()\n",
    "print(list_of_teams)\n",
    "print(len(list_of_teams))\n",
    "\n"
   ]
  }
 ],
 "metadata": {
  "kernelspec": {
   "display_name": "Python 3",
   "language": "python",
   "name": "python3"
  },
  "language_info": {
   "codemirror_mode": {
    "name": "ipython",
    "version": 3
   },
   "file_extension": ".py",
   "mimetype": "text/x-python",
   "name": "python",
   "nbconvert_exporter": "python",
   "pygments_lexer": "ipython3",
   "version": "3.13.2"
  }
 },
 "nbformat": 4,
 "nbformat_minor": 2
}
